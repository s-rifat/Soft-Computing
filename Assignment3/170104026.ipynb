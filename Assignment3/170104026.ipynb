{
  "nbformat": 4,
  "nbformat_minor": 0,
  "metadata": {
    "colab": {
      "name": "Copy of SC_Assignment3.ipynb",
      "provenance": [],
      "collapsed_sections": []
    },
    "kernelspec": {
      "display_name": "Python 3",
      "name": "python3"
    },
    "language_info": {
      "name": "python"
    }
  },
  "cells": [
    {
      "cell_type": "code",
      "metadata": {
        "id": "m-xCvXKGhaTF"
      },
      "source": [
        "import pandas as pd\n",
        "from torch.utils.data import DataLoader, Dataset\n",
        "from sklearn.feature_extraction.text import CountVectorizer\n",
        "import torch\n",
        "import torch.nn as nn\n",
        "import torch.optim as optim\n",
        "from torchsummary import summary\n",
        "import seaborn as sns\n",
        "import matplotlib.pyplot as plt\n",
        "import warnings\n",
        "warnings.filterwarnings(\"ignore\") \n",
        "from sklearn.metrics import confusion_matrix\n",
        "import numpy as np"
      ],
      "execution_count": 1,
      "outputs": []
    },
    {
      "cell_type": "code",
      "metadata": {
        "colab": {
          "base_uri": "https://localhost:8080/",
          "height": 363
        },
        "id": "L0tDAU-_G7_I",
        "outputId": "023ffa08-648f-4723-d218-d258dba19531"
      },
      "source": [
        "df = pd.read_csv('/content/drive/MyDrive/4.2/soft_com/Dataset/Assignment3/Dataset_3.csv',encoding='latin1')\n",
        "df = df.sample(frac=1).reset_index(drop=True)\n",
        "df.sample(10)"
      ],
      "execution_count": null,
      "outputs": [
        {
          "output_type": "execute_result",
          "data": {
            "text/html": [
              "<div>\n",
              "<style scoped>\n",
              "    .dataframe tbody tr th:only-of-type {\n",
              "        vertical-align: middle;\n",
              "    }\n",
              "\n",
              "    .dataframe tbody tr th {\n",
              "        vertical-align: top;\n",
              "    }\n",
              "\n",
              "    .dataframe thead th {\n",
              "        text-align: right;\n",
              "    }\n",
              "</style>\n",
              "<table border=\"1\" class=\"dataframe\">\n",
              "  <thead>\n",
              "    <tr style=\"text-align: right;\">\n",
              "      <th></th>\n",
              "      <th>tweets</th>\n",
              "      <th>sentiment</th>\n",
              "    </tr>\n",
              "  </thead>\n",
              "  <tbody>\n",
              "    <tr>\n",
              "      <th>9654</th>\n",
              "      <td>The world was suffering from the Great Depress...</td>\n",
              "      <td>1</td>\n",
              "    </tr>\n",
              "    <tr>\n",
              "      <th>7223</th>\n",
              "      <td>@eoghanquigg you were great at the boyzone con...</td>\n",
              "      <td>0</td>\n",
              "    </tr>\n",
              "    <tr>\n",
              "      <th>6776</th>\n",
              "      <td>Just one puff of this type of cannabis 'could ...</td>\n",
              "      <td>1</td>\n",
              "    </tr>\n",
              "    <tr>\n",
              "      <th>8992</th>\n",
              "      <td>Cat Depression Ã¢ÂÂÃÂ Signs, Causes and How...</td>\n",
              "      <td>1</td>\n",
              "    </tr>\n",
              "    <tr>\n",
              "      <th>3515</th>\n",
              "      <td>london. . . You look beautiful</td>\n",
              "      <td>0</td>\n",
              "    </tr>\n",
              "    <tr>\n",
              "      <th>1825</th>\n",
              "      <td>August - loftless: lease ends, new rent starts...</td>\n",
              "      <td>0</td>\n",
              "    </tr>\n",
              "    <tr>\n",
              "      <th>2057</th>\n",
              "      <td>@TamboManJoe HEHE hey come to cancun,mexico PL...</td>\n",
              "      <td>0</td>\n",
              "    </tr>\n",
              "    <tr>\n",
              "      <th>5799</th>\n",
              "      <td>@therealnuma Awesome me too  Got a busy two we...</td>\n",
              "      <td>0</td>\n",
              "    </tr>\n",
              "    <tr>\n",
              "      <th>5060</th>\n",
              "      <td>Is soooo Happy cos things have changed .. and ...</td>\n",
              "      <td>0</td>\n",
              "    </tr>\n",
              "    <tr>\n",
              "      <th>6024</th>\n",
              "      <td>@mrskimyadawson This is how I found you on her...</td>\n",
              "      <td>0</td>\n",
              "    </tr>\n",
              "  </tbody>\n",
              "</table>\n",
              "</div>"
            ],
            "text/plain": [
              "                                                 tweets  sentiment\n",
              "9654  The world was suffering from the Great Depress...          1\n",
              "7223  @eoghanquigg you were great at the boyzone con...          0\n",
              "6776  Just one puff of this type of cannabis 'could ...          1\n",
              "8992  Cat Depression Ã¢ÂÂÃÂ Signs, Causes and How...          1\n",
              "3515                    london. . . You look beautiful           0\n",
              "1825  August - loftless: lease ends, new rent starts...          0\n",
              "2057  @TamboManJoe HEHE hey come to cancun,mexico PL...          0\n",
              "5799  @therealnuma Awesome me too  Got a busy two we...          0\n",
              "5060  Is soooo Happy cos things have changed .. and ...          0\n",
              "6024  @mrskimyadawson This is how I found you on her...          0"
            ]
          },
          "metadata": {},
          "execution_count": 44
        }
      ]
    },
    {
      "cell_type": "code",
      "metadata": {
        "colab": {
          "base_uri": "https://localhost:8080/"
        },
        "id": "4LsVuTSb2ltz",
        "outputId": "bfea91b4-e598-4f47-e6db-0ce913a405aa"
      },
      "source": [
        "df.groupby('sentiment').size()"
      ],
      "execution_count": 3,
      "outputs": [
        {
          "output_type": "execute_result",
          "data": {
            "text/plain": [
              "sentiment\n",
              "0    8000\n",
              "1    2314\n",
              "dtype: int64"
            ]
          },
          "metadata": {},
          "execution_count": 3
        }
      ]
    },
    {
      "cell_type": "code",
      "metadata": {
        "colab": {
          "base_uri": "https://localhost:8080/",
          "height": 296
        },
        "id": "XAWwYX8Ru6d-",
        "outputId": "3c508dbf-78f4-4491-c98a-77904d963cf4"
      },
      "source": [
        "sns.countplot(df.sentiment)\n",
        "plt.xlabel('sentiment')"
      ],
      "execution_count": null,
      "outputs": [
        {
          "output_type": "execute_result",
          "data": {
            "text/plain": [
              "Text(0.5, 0, 'sentiment')"
            ]
          },
          "metadata": {},
          "execution_count": 4
        },
        {
          "output_type": "display_data",
          "data": {
            "image/png": "[encoded data removed]",
            "text/plain": [
              "<Figure size 432x288 with 1 Axes>"
            ]
          },
          "metadata": {
            "needs_background": "light"
          }
        }
      ]
    },
    {
      "cell_type": "code",
      "metadata": {
        "id": "7-hqvwbrB3R-"
      },
      "source": [
        "class Sequences(Dataset):\n",
        "    def __init__(self, data):\n",
        "        self.vectorizer = CountVectorizer(stop_words='english')\n",
        "        self.sequences = self.vectorizer.fit_transform(data.tweets.tolist())\n",
        "        self.labels = data.sentiment.tolist()\n",
        "        self.token2idx = self.vectorizer.vocabulary_\n",
        "        self.idx2token = {idx: token for token, idx in self.token2idx.items()}\n",
        "    \n",
        "    def __getitem__(self, i):\n",
        "        return self.sequences[i, :].toarray(), self.labels[i]\n",
        "    \n",
        "    def __len__(self):\n",
        "        return self.sequences.shape[0]"
      ],
      "execution_count": 5,
      "outputs": []
    },
    {
      "cell_type": "code",
      "metadata": {
        "id": "f8kFN8yFiseG"
      },
      "source": [
        "batch_size = 100"
      ],
      "execution_count": 6,
      "outputs": []
    },
    {
      "cell_type": "code",
      "metadata": {
        "id": "e-0tzPx0ipF_"
      },
      "source": [
        "dataset = Sequences(df)\n",
        "train_size = int(len(dataset)*.8);\n",
        "test_size = int(len(dataset) - train_size);\n",
        "train_dataset, test_dataset = torch.utils.data.random_split(dataset,[train_size, test_size])\n",
        "train_loader = DataLoader(train_dataset, batch_size=batch_size)\n",
        "test_loader = DataLoader(test_dataset, batch_size=batch_size)"
      ],
      "execution_count": 7,
      "outputs": []
    },
    {
      "cell_type": "code",
      "metadata": {
        "colab": {
          "base_uri": "https://localhost:8080/"
        },
        "id": "FjgHTQRi6n_T",
        "outputId": "4483944a-587f-4b87-b250-a8098835baa9"
      },
      "source": [
        "len(dataset.token2idx)"
      ],
      "execution_count": 16,
      "outputs": [
        {
          "output_type": "execute_result",
          "data": {
            "text/plain": [
              "22212"
            ]
          },
          "metadata": {},
          "execution_count": 16
        }
      ]
    },
    {
      "cell_type": "code",
      "metadata": {
        "id": "ByzRI5POiRnP"
      },
      "source": [
        "input_size = len(dataset.token2idx)\n",
        "hidden_size = 128\n",
        "num_classes = 2\n",
        "num_layers = 3\n",
        "learning_rate = 0.01\n",
        "sequence_length = 1\n",
        "num_epochs = 4"
      ],
      "execution_count": null,
      "outputs": []
    },
    {
      "cell_type": "code",
      "metadata": {
        "colab": {
          "base_uri": "https://localhost:8080/"
        },
        "id": "VC3NzIIkAqWA",
        "outputId": "9b347dc8-8978-4eb5-81dc-4a4aa3390490"
      },
      "source": [
        "print(len(train_dataset))\n",
        "print(len(test_dataset))"
      ],
      "execution_count": null,
      "outputs": [
        {
          "output_type": "stream",
          "name": "stdout",
          "text": [
            "8251\n",
            "2063\n"
          ]
        }
      ]
    },
    {
      "cell_type": "code",
      "metadata": {
        "colab": {
          "base_uri": "https://localhost:8080/"
        },
        "id": "zeaHqEkFWTL3",
        "outputId": "237eb228-c90c-4d39-97be-bb80e687c2b4"
      },
      "source": [
        "device = torch.device('cuda' if torch.cuda.is_available() else 'cpu')\n",
        "device"
      ],
      "execution_count": null,
      "outputs": [
        {
          "output_type": "execute_result",
          "data": {
            "text/plain": [
              "device(type='cpu')"
            ]
          },
          "metadata": {},
          "execution_count": 10
        }
      ]
    },
    {
      "cell_type": "code",
      "metadata": {
        "id": "WQf57LHJV1iP"
      },
      "source": [
        "class RNN(nn.Module):\n",
        "    def __init__(self, input_size, hidden_size, num_layers, num_classes):\n",
        "        super(RNN, self).__init__()\n",
        "        self.D = 2\n",
        "        self.hidden_size = hidden_size\n",
        "        self.num_layers = num_layers\n",
        "        self.rnn = nn.RNN(input_size, hidden_size, num_layers, batch_first=True, bidirectional=True)\n",
        "        self.fc = nn.Linear(self.D*hidden_size, num_classes)\n",
        "    \n",
        "    def forward(self, x):\n",
        "        # Set initial hidden and cell states \n",
        "        h0 = torch.zeros(self.D*self.num_layers, x.size(0), self.hidden_size).to(device) \n",
        "        \n",
        "        # Forward propagate LSTM\n",
        "        out, _ = self.rnn(x, h0) \n",
        "        h0 = torch.zeros(self.D*self.num_layers, out.size(0), self.hidden_size).to(device) \n",
        "        \n",
        "        # Decode the hidden state of the last time step\n",
        "        out = self.fc(out[:, -1, :])\n",
        "        return out"
      ],
      "execution_count": null,
      "outputs": []
    },
    {
      "cell_type": "code",
      "metadata": {
        "id": "hY1cc_GxW1jy"
      },
      "source": [
        "model = RNN(input_size, hidden_size, num_layers, num_classes).to(device)"
      ],
      "execution_count": null,
      "outputs": []
    },
    {
      "cell_type": "code",
      "metadata": {
        "id": "6oWIgLxZYb2m"
      },
      "source": [
        "criterion = nn.CrossEntropyLoss()\n",
        "optimizer = torch.optim.Adam(model.parameters(), lr=learning_rate)"
      ],
      "execution_count": null,
      "outputs": []
    },
    {
      "cell_type": "code",
      "metadata": {
        "colab": {
          "base_uri": "https://localhost:8080/"
        },
        "id": "ZkipZwX5YrQQ",
        "outputId": "3e5b161e-1552-44be-a3e1-439165914063"
      },
      "source": [
        "# Train the model\n",
        "y_pred = []\n",
        "y_test = []\n",
        "iter = []\n",
        "losses = []\n",
        "itr = 0\n",
        "total_step = len(train_loader)\n",
        "for epoch in range(num_epochs):\n",
        "    for i, (tweets, labels) in enumerate(train_loader):\n",
        "        tweets = tweets.reshape(-1, sequence_length, input_size).to(device)\n",
        "        labels = labels.to(device)\n",
        "        tweets = torch.tensor(tweets, dtype = torch.float)\n",
        "        # Forward pass\n",
        "        outputs = model(tweets)\n",
        "        loss = criterion(outputs, labels)\n",
        "        \n",
        "        # Backward and optimize\n",
        "        optimizer.zero_grad()\n",
        "        loss.backward()\n",
        "        optimizer.step()\n",
        "        itr = itr + 1\n",
        "        if (i+1) % 20 == 0:\n",
        "            iter.append(itr)\n",
        "            losses.append(loss.item())\n",
        "            print ('Epoch [{}/{}], Step [{}/{}], Loss: {:.4f}' \n",
        "                   .format(epoch+1, num_epochs, i+1, total_step, loss.item()))\n",
        "        \n",
        "# Test the model\n",
        "model.eval()\n",
        "with torch.no_grad():\n",
        "    correct = 0\n",
        "    total = 0\n",
        "    for tweets, labels in test_loader:\n",
        "        tweets = tweets.reshape(-1, sequence_length, input_size).to(device)\n",
        "        labels = labels.to(device)\n",
        "        tweets = torch.tensor(tweets, dtype = torch.float)\n",
        "        outputs = model(tweets)\n",
        "        _, predicted = torch.max(outputs.data, 1)\n",
        "        total += labels.size(0)\n",
        "        correct += (predicted == labels).sum().item()\n",
        "\n",
        "        y_pred.extend(predicted)\n",
        "        y_test.extend(labels)\n",
        "\n",
        "    print('Test Accuracy of the model on the 10000 test tweets: {} %'.format(100 * correct / total)) \n",
        "\n",
        "# Save the model checkpoint\n",
        "torch.save(model.state_dict(), 'model.ckpt')"
      ],
      "execution_count": null,
      "outputs": [
        {
          "output_type": "stream",
          "name": "stdout",
          "text": [
            "Epoch [1/4], Step [20/83], Loss: 0.0848\n",
            "Epoch [1/4], Step [40/83], Loss: 0.0792\n",
            "Epoch [1/4], Step [60/83], Loss: 0.0332\n",
            "Epoch [1/4], Step [80/83], Loss: 0.0348\n",
            "Epoch [2/4], Step [20/83], Loss: 0.0228\n",
            "Epoch [2/4], Step [40/83], Loss: 0.0000\n",
            "Epoch [2/4], Step [60/83], Loss: 0.0077\n",
            "Epoch [2/4], Step [80/83], Loss: 0.0307\n",
            "Epoch [3/4], Step [20/83], Loss: 0.0215\n",
            "Epoch [3/4], Step [40/83], Loss: 0.0016\n",
            "Epoch [3/4], Step [60/83], Loss: 0.0006\n",
            "Epoch [3/4], Step [80/83], Loss: 0.0071\n",
            "Epoch [4/4], Step [20/83], Loss: 0.0114\n",
            "Epoch [4/4], Step [40/83], Loss: 0.0006\n",
            "Epoch [4/4], Step [60/83], Loss: 0.0000\n",
            "Epoch [4/4], Step [80/83], Loss: 0.0001\n",
            "Test Accuracy of the model on the 10000 test tweets: 98.78817256422685 %\n"
          ]
        }
      ]
    },
    {
      "cell_type": "code",
      "metadata": {
        "colab": {
          "base_uri": "https://localhost:8080/",
          "height": 312
        },
        "id": "osd5axdD8oiC",
        "outputId": "34d45425-39d2-43fd-9bcb-ced0755082af"
      },
      "source": [
        "plt.plot(iter, losses, label='Loss')\n",
        "plt.title('Loss Curve')\n",
        "plt.ylabel('Loss')\n",
        "plt.xlabel('Iteration')\n",
        "plt.legend()"
      ],
      "execution_count": null,
      "outputs": [
        {
          "output_type": "execute_result",
          "data": {
            "text/plain": [
              "<matplotlib.legend.Legend at 0x7f069d9ad090>"
            ]
          },
          "metadata": {},
          "execution_count": 25
        },
        {
          "output_type": "display_data",
          "data": {
            "image/png": "[encoded data removed]",
            "text/plain": [
              "<Figure size 432x288 with 1 Axes>"
            ]
          },
          "metadata": {
            "needs_background": "light"
          }
        }
      ]
    },
    {
      "cell_type": "code",
      "metadata": {
        "colab": {
          "base_uri": "https://localhost:8080/",
          "height": 281
        },
        "id": "Ekhy8H1fQh37",
        "outputId": "b4979d59-78e0-4c98-e4b1-9996689d11e5"
      },
      "source": [
        "def show_confusion_matrix(confusion_matrix):\n",
        "  hmap = sns.heatmap(confusion_matrix, annot=True, fmt=\"d\", cmap=\"Blues\")\n",
        "  hmap.yaxis.set_ticklabels(hmap.yaxis.get_ticklabels(), rotation=0, ha='right')\n",
        "  hmap.xaxis.set_ticklabels(hmap.xaxis.get_ticklabels(), rotation=30, ha='right')\n",
        "  plt.ylabel('True sentiment')\n",
        "  plt.xlabel('Predicted sentiment');\n",
        "cm = confusion_matrix(y_test, y_pred)\n",
        "df_cm = pd.DataFrame(cm, index=[0,1], columns=[0,1])\n",
        "show_confusion_matrix(df_cm)"
      ],
      "execution_count": null,
      "outputs": [
        {
          "output_type": "display_data",
          "data": {
            "image/png": "[encoded data removed]",
            "text/plain": [
              "<Figure size 432x288 with 2 Axes>"
            ]
          },
          "metadata": {
            "needs_background": "light"
          }
        }
      ]
    },
    {
      "cell_type": "code",
      "metadata": {
        "colab": {
          "base_uri": "https://localhost:8080/"
        },
        "id": "_qxYyUibVu0r",
        "outputId": "7a0ee76e-bbda-4de1-9798-0ca209d69495"
      },
      "source": [
        "tp = 0\n",
        "tn = 0\n",
        "fp = 0\n",
        "fn = 0\n",
        "for i in range(len(y_test)):\n",
        "  tn += ((y_pred[i] == 0) &  (y_test[i] == 0)).float()\n",
        "  tp += ((y_pred[i] == 1) &  (y_test[i] == 1)).float()\n",
        "  fn += ((y_pred[i] == 0) &  (y_test[i] == 1)).float()\n",
        "  fp += ((y_pred[i] == 1) &  (y_test[i] == 0)).float()\n",
        "\n",
        "print(tn, ' ', fn, ' ', fp, ' ', tp)"
      ],
      "execution_count": null,
      "outputs": [
        {
          "output_type": "stream",
          "name": "stdout",
          "text": [
            "tensor(1571.)   tensor(21.)   tensor(4.)   tensor(467.)\n"
          ]
        }
      ]
    },
    {
      "cell_type": "code",
      "metadata": {
        "id": "AWLRFGl49lq2"
      },
      "source": [
        "precision = tp/(tp+fp)\n",
        "recall = tp/(tp+fn)\n",
        "f1_score = 2* ((precision*recall)/(precision+recall))"
      ],
      "execution_count": null,
      "outputs": []
    },
    {
      "cell_type": "code",
      "metadata": {
        "colab": {
          "base_uri": "https://localhost:8080/"
        },
        "id": "3qEXQ6Z1Agux",
        "outputId": "8b2c4d90-3e4f-47cc-987a-a78895c63d2d"
      },
      "source": [
        "print('Precision: ', precision.item(), 'Recall: ', recall.item(),  'F1_score: ', f1_score.item())"
      ],
      "execution_count": null,
      "outputs": [
        {
          "output_type": "stream",
          "name": "stdout",
          "text": [
            "Precision:  0.9915074110031128 Recall:  0.9569672346115112 F1_score:  0.9739311337471008\n"
          ]
        }
      ]
    },
    {
      "cell_type": "code",
      "metadata": {
        "id": "NTxXhmkIBRC4"
      },
      "source": [
        "def table(l1, columns):\n",
        "  plt.rcParams[\"figure.figsize\"] = [10, 2]\n",
        "  plt.rcParams[\"figure.autolayout\"] = True\n",
        "  \n",
        "  fig, axs = plt.subplots(1, 1)\n",
        "  data = np.column_stack(l1)\n",
        "  axs.axis('tight')\n",
        "  axs.axis('off')\n",
        "  the_table = axs.table(cellText=data, colLabels=columns, loc='center', cellLoc = 'center')\n",
        "  the_table.auto_set_font_size(False)\n",
        "  the_table.set_fontsize(18)\n",
        "  the_table.scale(1.5, 1.5)\n",
        "  plt.show()"
      ],
      "execution_count": null,
      "outputs": []
    },
    {
      "cell_type": "code",
      "metadata": {
        "colab": {
          "base_uri": "https://localhost:8080/",
          "height": 153
        },
        "id": "yeTj40fcBeuc",
        "outputId": "fe478b29-9687-4b3e-9164-712f0951137d"
      },
      "source": [
        "table(['99.15%','95.69%','97.39%','98.78%'],['Precision', 'Recall', 'F1 Score', 'Accuracy'])"
      ],
      "execution_count": null,
      "outputs": [
        {
          "output_type": "display_data",
          "data": {
            "image/png": "[encoded data removed]",
            "text/plain": [
              "<Figure size 720x144 with 1 Axes>"
            ]
          },
          "metadata": {
            "needs_background": "light"
          }
        }
      ]
    }
  ]
}