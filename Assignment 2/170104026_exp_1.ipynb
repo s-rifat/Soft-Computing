{
  "nbformat": 4,
  "nbformat_minor": 0,
  "metadata": {
    "colab": {
      "name": "170104026_exp_1.ipynb",
      "provenance": [],
      "collapsed_sections": []
    },
    "kernelspec": {
      "display_name": "Python 3",
      "name": "python3"
    },
    "language_info": {
      "name": "python"
    }
  },
  "cells": [
    {
      "cell_type": "markdown",
      "metadata": {
        "id": "t0VZV-bZhOHJ"
      },
      "source": [
        "#Importing libraries"
      ]
    },
    {
      "cell_type": "code",
      "metadata": {
        "id": "bwUhMIPdBDF8"
      },
      "source": [
        "import torch\n",
        "import torch.nn as nn\n",
        "import torchvision.transforms as transforms\n",
        "import torchvision.datasets as dsets\n",
        "import pandas as pd\n",
        "import PIL\n",
        "import os\n",
        "import pickle\n",
        "from google.colab import files\n",
        "import torchvision\n",
        "import numpy as np\n",
        "import matplotlib.pyplot as plt"
      ],
      "execution_count": null,
      "outputs": []
    },
    {
      "cell_type": "markdown",
      "metadata": {
        "id": "-JQcyIo4hUIe"
      },
      "source": [
        "#Seeding"
      ]
    },
    {
      "cell_type": "code",
      "metadata": {
        "id": "_u_CAyPVB1IZ"
      },
      "source": [
        "np.random.seed(26)"
      ],
      "execution_count": null,
      "outputs": []
    },
    {
      "cell_type": "markdown",
      "metadata": {
        "id": "INJRp8pyhZc5"
      },
      "source": [
        "#Function for loading dataset"
      ]
    },
    {
      "cell_type": "code",
      "metadata": {
        "id": "-_spSWjyB3_J"
      },
      "source": [
        "class CustomDataset(torch.utils.data.Dataset):\n",
        "    def __init__(self, csv_path, images_folder, transform=torchvision.transforms.Compose([\n",
        "    torchvision.transforms.Grayscale(num_output_channels=1),\n",
        "    torchvision.transforms.ToTensor(),\n",
        "    torchvision.transforms.Resize(28),\n",
        "    torchvision.transforms.Normalize(\n",
        "        mean=[0.5],\n",
        "        std=[0.5],\n",
        "    ),\n",
        "])):\n",
        "        self.df = pd.read_csv(csv_path)\n",
        "        self.images_folder = images_folder\n",
        "        self.transform = transform\n",
        "        \n",
        "    def __len__(self):\n",
        "        return len(self.df)\n",
        "\n",
        "    def __getitem__(self, index):\n",
        "        record = self.df.iloc[index]\n",
        "        path = self.images_folder + \"/\" +record[0]\n",
        "        image = PIL.Image.open(path)\n",
        "        label = record[3]\n",
        "        if self.transform is not None:\n",
        "            image = self.transform(image) \n",
        "        return image, label"
      ],
      "execution_count": null,
      "outputs": []
    },
    {
      "cell_type": "markdown",
      "metadata": {
        "id": "2g9H56Aohhzf"
      },
      "source": [
        "#Function for converting tensor to image"
      ]
    },
    {
      "cell_type": "code",
      "metadata": {
        "id": "6J7ZZEUnEEMg"
      },
      "source": [
        "def tensorToImage(x):\n",
        "  trans = transforms.ToPILImage()\n",
        "  image = trans(x)\n",
        "  return image"
      ],
      "execution_count": null,
      "outputs": []
    },
    {
      "cell_type": "markdown",
      "metadata": {
        "id": "KtHh7j6dh4Dl"
      },
      "source": [
        "#Loading data"
      ]
    },
    {
      "cell_type": "code",
      "metadata": {
        "id": "KV_KwRdNCBC6"
      },
      "source": [
        "path1 = '/content/drive/MyDrive/4.2/soft_com/Dataset/Assignment2/training-a.csv'\n",
        "path2 = '/content/drive/MyDrive/4.2/soft_com/Dataset/Assignment2/training-a'\n",
        "obj = CustomDataset(path1, path2)\n",
        "dataset = [[x[0],x[1]] for x in obj]"
      ],
      "execution_count": null,
      "outputs": []
    },
    {
      "cell_type": "markdown",
      "metadata": {
        "id": "uZXyZq_2h-yW"
      },
      "source": [
        "#Visualizing data"
      ]
    },
    {
      "cell_type": "code",
      "metadata": {
        "colab": {
          "base_uri": "https://localhost:8080/",
          "height": 282
        },
        "id": "1a4q2HmFF1eE",
        "outputId": "7e70a59d-edc7-4ff5-fb2b-7f6bc201d95a"
      },
      "source": [
        "plt.imshow(tensorToImage(obj[0][0]))"
      ],
      "execution_count": null,
      "outputs": [
        {
          "data": {
            "text/plain": [
              "<matplotlib.image.AxesImage at 0x7fbc9ace7a50>"
            ]
          },
          "execution_count": 48,
          "metadata": {},
          "output_type": "execute_result"
        },
        {
          "data": {
            "image/png": "[encoded data removed]",
            "text/plain": [
              "<Figure size 432x288 with 1 Axes>"
            ]
          },
          "metadata": {},
          "output_type": "display_data"
        }
      ]
    },
    {
      "cell_type": "markdown",
      "metadata": {
        "id": "VHIuxo7MiE9X"
      },
      "source": [
        "#Checking the length of dataset"
      ]
    },
    {
      "cell_type": "code",
      "metadata": {
        "id": "7AEAdk7EWvp_",
        "colab": {
          "base_uri": "https://localhost:8080/"
        },
        "outputId": "733db898-fe1d-47c3-9d23-e0d0f5695f9d"
      },
      "source": [
        "len(dataset)"
      ],
      "execution_count": null,
      "outputs": [
        {
          "output_type": "execute_result",
          "data": {
            "text/plain": [
              "19702"
            ]
          },
          "metadata": {},
          "execution_count": 50
        }
      ]
    },
    {
      "cell_type": "markdown",
      "metadata": {
        "id": "mNua2ZoVvRvn"
      },
      "source": [
        "#Experiment 1"
      ]
    },
    {
      "cell_type": "markdown",
      "metadata": {
        "id": "OWAUDhHfXArn"
      },
      "source": [
        "batch_size = 20 <br>\n",
        "num_iters = 20000 <br>\n",
        "input_dim = 1 * 28 * 28 <br>\n",
        "num_hidden = 200 <br>\n",
        "output_dim = 10 <br>\n",
        "learning_rate = 0.01 <br>\n",
        "Activation = ReLU <br>\n",
        "Criterion = Cross Entropy <br>\n",
        "Optimizar = SGD <br>\n",
        "<font color = \"orange\"> Accurace = 22.27% <br> </font>\n",
        "Comment: The accuracy is not good. <br>\n"
      ]
    },
    {
      "cell_type": "code",
      "metadata": {
        "colab": {
          "base_uri": "https://localhost:8080/"
        },
        "id": "1h-YFcM4vhUc",
        "outputId": "8c6e1b59-f2ab-482c-9afd-7350dd96b695"
      },
      "source": [
        "# Hyperparameters\n",
        "\n",
        "batch_size = 20\n",
        "num_iters = 20000\n",
        "input_dim = 1*28*28 # num_features = 784\n",
        "num_hidden = 200\n",
        "output_dim = 10\n",
        "learning_rate = 0.01\n",
        "\n",
        "# Device\n",
        "device = torch.device(\"cuda:0\" if torch.cuda.is_available() else \"cpu\")\n",
        "\n",
        "train_size = int(0.8 * len(dataset))\n",
        "test_size = len(dataset) - train_size\n",
        "train_dataset, test_dataset = torch.utils.data.random_split(dataset, [train_size, test_size])\n",
        "\n",
        "num_epochs = num_iters / (len(train_dataset) / batch_size)\n",
        "num_epochs = int(num_epochs)\n",
        "\n",
        "train_loader = torch.utils.data.DataLoader(train_dataset, shuffle=True, batch_size=batch_size)\n",
        "test_loader = torch.utils.data.DataLoader(test_dataset, shuffle= False, batch_size=batch_size)\n",
        "\n",
        "class DeepNeuralNetworkModel(nn.Module):\n",
        "    def __init__(self, input_size, num_classes, num_hidden):\n",
        "        super().__init__()\n",
        "        ### 1st hidden layer: 784 --> 100\n",
        "        self.linear_1 = nn.Linear(input_size, num_hidden)\n",
        "        ### Non-linearity in 1st hidden layer\n",
        "        self.relu_1 = nn.ReLU()\n",
        "\n",
        "        ### 2nd hidden layer: 100 --> 100\n",
        "        self.linear_2 = nn.Linear(num_hidden, num_hidden)\n",
        "        ### Non-linearity in 2nd hidden layer\n",
        "        self.relu_2 = nn.ReLU()\n",
        "\n",
        "        \n",
        "        ### 3rd hidden layer: 100 --> 100\n",
        "        self.linear_3 = nn.Linear(num_hidden, num_hidden)\n",
        "        ### Non-linearity in 3rd hidden layer\n",
        "        self.relu_3 = nn.ReLU()\n",
        "\n",
        "\n",
        "        self.linear_4 = nn.Linear(num_hidden, num_hidden)\n",
        "        ### Non-linearity in 1st hidden layer\n",
        "        self.relu_4 = nn.ReLU()\n",
        "        \n",
        "        \n",
        "        ### 2nd hidden layer: 100 --> 100\n",
        "        self.linear_5 = nn.Linear(num_hidden, num_hidden)\n",
        "        ### Non-linearity in 2nd hidden layer\n",
        "        self.relu_5 = nn.ReLU()\n",
        "\n",
        "        ### 2nd hidden layer: 100 --> 100\n",
        "        self.linear_6 = nn.Linear(num_hidden, num_hidden)\n",
        "        ### Non-linearity in 2nd hidden layer\n",
        "        self.relu_6 = nn.ReLU()\n",
        "        \n",
        "        ### Output layer: 100 --> 10\n",
        "        self.linear_out = nn.Linear(num_hidden, num_classes)\n",
        "\n",
        "    def forward(self, x):\n",
        "        ### 1st hidden layer\n",
        "        out  = self.linear_1(x)\n",
        "        ### Non-linearity in 1st hidden layer\n",
        "        out = self.relu_1(out)\n",
        "        \n",
        "        ### 2nd hidden layer\n",
        "        out  = self.linear_2(out)\n",
        "        ### Non-linearity in 2nd hidden layer\n",
        "        out = self.relu_2(out)\n",
        "\n",
        "        \n",
        "        ### 3rd hidden layer\n",
        "        out  = self.linear_3(out)\n",
        "        ### Non-linearity in 3rd hidden layer\n",
        "        out = self.relu_3(out)\n",
        "\n",
        "        \n",
        "        ### 2nd hidden layer\n",
        "        out  = self.linear_4(out)\n",
        "        ### Non-linearity in 2nd hidden layer\n",
        "        out = self.relu_4(out)\n",
        "        \n",
        "        \n",
        "        ### 3rd hidden layer\n",
        "        out  = self.linear_5(out)\n",
        "        ### Non-linearity in 3rd hidden layer\n",
        "        out = self.relu_5(out)\n",
        "\n",
        "        ### 3rd hidden layer\n",
        "        out  = self.linear_6(out)\n",
        "        ### Non-linearity in 3rd hidden layer\n",
        "        out = self.relu_6(out)\n",
        "        \n",
        "\n",
        "        # Linear layer (output)\n",
        "        probas  = self.linear_out(out)\n",
        "        return probas\n",
        "\n",
        "\n",
        "# INSTANTIATE MODEL CLASS\n",
        "\n",
        "model = DeepNeuralNetworkModel(input_size = input_dim,\n",
        "                               num_classes = output_dim,\n",
        "                               num_hidden = num_hidden)\n",
        "# To enable GPU\n",
        "model.to(device)\n",
        "\n",
        "# INSTANTIATE LOSS & OPTIMIZER CLASS\n",
        "criterion = nn.CrossEntropyLoss()\n",
        "optimizer = torch.optim.SGD(model.parameters(), lr=learning_rate)\n",
        "\n",
        "\n",
        "iter_ = []\n",
        "loss_ = []\n",
        "accuracy_ = []\n",
        "\n",
        "iter = 0\n",
        "for epoch in range(num_epochs):\n",
        "    for i, (images, labels) in enumerate(train_loader):\n",
        "\n",
        "        images = images.view(-1, 1*28*28).to(device)\n",
        "        labels = labels.to(device)\n",
        "\n",
        "        # Clear gradients w.r.t. parameters\n",
        "        optimizer.zero_grad()\n",
        "\n",
        "        # Forward pass to get output/logits\n",
        "        outputs = model(images) \n",
        "\n",
        "        # Calculate Loss: softmax --> cross entropy loss\n",
        "        loss = criterion(outputs, labels)\n",
        "\n",
        "        # Getting gradients w.r.t. parameters\n",
        "        loss.backward()\n",
        "\n",
        "        # Updating parameters\n",
        "        optimizer.step()\n",
        "\n",
        "        iter += 1\n",
        "\n",
        "        if iter % 500 == 0:\n",
        "            # Calculate Accuracy         \n",
        "            correct = 0\n",
        "            total = 0\n",
        "            # Iterate through test dataset\n",
        "            for images, labels in test_loader:\n",
        "               \n",
        "                images = images.view(-1, 1*28*28).to(device)\n",
        "\n",
        "                # Forward pass only to get logits/output\n",
        "                outputs = model(images)\n",
        "\n",
        "                # Get predictions from the maximum value\n",
        "                _, predicted = torch.max(outputs, 1)\n",
        "\n",
        "                # Total number of labels\n",
        "                total += labels.size(0)\n",
        "\n",
        "\n",
        "                # Total correct predictions\n",
        "                if torch.cuda.is_available():\n",
        "                    correct += (predicted.cpu() == labels.cpu()).sum() \n",
        "                else:\n",
        "                    correct += (predicted == labels).sum()\n",
        "\n",
        "            accuracy = 100 * correct.item() / total\n",
        "            iter_.append(iter)\n",
        "            loss_.append(loss.item())\n",
        "            accuracy_.append(accuracy)\n",
        "            # Print Loss\n",
        "            print('Iteration: {}. Loss: {}. Accuracy: {}'.format(iter, loss.item(), accuracy))"
      ],
      "execution_count": null,
      "outputs": [
        {
          "output_type": "stream",
          "name": "stdout",
          "text": [
            "Iteration: 500. Loss: 2.3124520778656006. Accuracy: 10.149708195889367\n",
            "Iteration: 1000. Loss: 2.293536424636841. Accuracy: 9.946714031971581\n",
            "Iteration: 1500. Loss: 2.2981791496276855. Accuracy: 10.149708195889367\n",
            "Iteration: 2000. Loss: 2.3021318912506104. Accuracy: 9.48997716315656\n",
            "Iteration: 2500. Loss: 2.3028619289398193. Accuracy: 9.616848515605176\n",
            "Iteration: 3000. Loss: 2.3021059036254883. Accuracy: 9.616848515605176\n",
            "Iteration: 3500. Loss: 2.303398609161377. Accuracy: 10.149708195889367\n",
            "Iteration: 4000. Loss: 2.3062891960144043. Accuracy: 10.022836843440752\n",
            "Iteration: 4500. Loss: 2.301593542098999. Accuracy: 9.48997716315656\n",
            "Iteration: 5000. Loss: 2.3061821460723877. Accuracy: 9.48997716315656\n",
            "Iteration: 5500. Loss: 2.3023037910461426. Accuracy: 9.616848515605176\n",
            "Iteration: 6000. Loss: 2.2986912727355957. Accuracy: 9.946714031971581\n",
            "Iteration: 6500. Loss: 2.308406114578247. Accuracy: 9.388480081197665\n",
            "Iteration: 7000. Loss: 2.302349805831909. Accuracy: 11.64679015478305\n",
            "Iteration: 7500. Loss: 2.30854868888855. Accuracy: 9.616848515605176\n",
            "Iteration: 8000. Loss: 2.3038554191589355. Accuracy: 9.946714031971581\n",
            "Iteration: 8500. Loss: 2.3018295764923096. Accuracy: 16.442527277340776\n",
            "Iteration: 9000. Loss: 2.302591562271118. Accuracy: 13.625983252981477\n",
            "Iteration: 9500. Loss: 2.2986061573028564. Accuracy: 14.970819588936818\n",
            "Iteration: 10000. Loss: 2.2985079288482666. Accuracy: 13.397614818573967\n",
            "Iteration: 10500. Loss: 2.2958824634552. Accuracy: 11.088556204009135\n",
            "Iteration: 11000. Loss: 2.2993459701538086. Accuracy: 16.18878457244354\n",
            "Iteration: 11500. Loss: 2.302274703979492. Accuracy: 18.70083735092616\n",
            "Iteration: 12000. Loss: 2.296586513519287. Accuracy: 11.49454453184471\n",
            "Iteration: 12500. Loss: 2.2891554832458496. Accuracy: 15.224562293834053\n",
            "Iteration: 13000. Loss: 2.2884857654571533. Accuracy: 13.702106064450646\n",
            "Iteration: 13500. Loss: 2.2835588455200195. Accuracy: 16.899264146155797\n",
            "Iteration: 14000. Loss: 2.2754790782928467. Accuracy: 16.061913219994924\n",
            "Iteration: 14500. Loss: 2.2523910999298096. Accuracy: 14.488708449632073\n",
            "Iteration: 15000. Loss: 2.1806716918945312. Accuracy: 15.782796244607967\n",
            "Iteration: 15500. Loss: 2.2236576080322266. Accuracy: 19.74118244100482\n",
            "Iteration: 16000. Loss: 2.1401212215423584. Accuracy: 15.630550621669627\n",
            "Iteration: 16500. Loss: 2.1449787616729736. Accuracy: 20.78152753108348\n",
            "Iteration: 17000. Loss: 2.038001537322998. Accuracy: 19.487439736107586\n",
            "Iteration: 17500. Loss: 2.2213339805603027. Accuracy: 11.2661760974372\n",
            "Iteration: 18000. Loss: 2.1337833404541016. Accuracy: 16.82314133468663\n",
            "Iteration: 18500. Loss: 2.1128501892089844. Accuracy: 22.1009895965491\n",
            "Iteration: 19000. Loss: 2.162449359893799. Accuracy: 19.259071301700075\n",
            "Iteration: 19500. Loss: 2.1379153728485107. Accuracy: 22.278609489977164\n"
          ]
        }
      ]
    },
    {
      "cell_type": "markdown",
      "metadata": {
        "id": "9V1rWM5lispu"
      },
      "source": [
        "##Saving data"
      ]
    },
    {
      "cell_type": "code",
      "metadata": {
        "id": "b8FjY7h0x1b9"
      },
      "source": [
        "def sav(x,s):\n",
        "  with open(s,'wb') as f:\n",
        "    pickle.dump(x,f)  \n",
        "    \n",
        "sav(iter_,'iter_exp1')\n",
        "sav(loss_,'loss_exp1')\n",
        "sav(accuracy_,'acc_exp1')\n",
        "sav(model,'model_exp1')"
      ],
      "execution_count": null,
      "outputs": []
    },
    {
      "cell_type": "markdown",
      "metadata": {
        "id": "cc21TrvTiuVG"
      },
      "source": [
        "#Function for loading data"
      ]
    },
    {
      "cell_type": "code",
      "metadata": {
        "id": "CdRYGz-0xhxi"
      },
      "source": [
        "def lod(s):\n",
        "  with open(s,'rb') as f:\n",
        "    a = pickle.load(f)  \n",
        "  return a"
      ],
      "execution_count": null,
      "outputs": []
    },
    {
      "cell_type": "markdown",
      "metadata": {
        "id": "n2Gog6I3ixg2"
      },
      "source": [
        "#Plotting loss-iteration curve for experiment 1"
      ]
    },
    {
      "cell_type": "code",
      "metadata": {
        "colab": {
          "base_uri": "https://localhost:8080/",
          "height": 296
        },
        "id": "IZzMGi0tJO2Z",
        "outputId": "6fb4ed9c-767d-4a23-953a-335dc94bc237"
      },
      "source": [
        "iteration = lod('iter_exp1')\n",
        "loss = lod('loss_exp1')\n",
        "\n",
        "plt.ylabel(\"Loss\")\n",
        "plt.xlabel(\"Iteration\")\n",
        "plt.plot(iteration, loss)"
      ],
      "execution_count": null,
      "outputs": [
        {
          "output_type": "execute_result",
          "data": {
            "text/plain": [
              "[<matplotlib.lines.Line2D at 0x7fbc99b64210>]"
            ]
          },
          "metadata": {},
          "execution_count": 86
        },
        {
          "output_type": "display_data",
          "data": {
            "image/png": "[encoded data removed]",
            "text/plain": [
              "<Figure size 432x288 with 1 Axes>"
            ]
          },
          "metadata": {
            "needs_background": "light"
          }
        }
      ]
    }
  ]
}